{
  "cells": [
    {
      "cell_type": "markdown",
      "metadata": {
        "id": "view-in-github",
        "colab_type": "text"
      },
      "source": [
        "<a href=\"https://colab.research.google.com/github/DoritoDog/virtual_library/blob/main/WaveRNN.ipynb\" target=\"_parent\"><img src=\"https://colab.research.google.com/assets/colab-badge.svg\" alt=\"Open In Colab\"/></a>"
      ]
    },
    {
      "cell_type": "code",
      "execution_count": null,
      "metadata": {
        "colab": {
          "base_uri": "https://localhost:8080/"
        },
        "id": "T53BU2zyMHL3",
        "outputId": "dfa79b91-238f-4856-8d3e-460e8e60be82"
      },
      "outputs": [
        {
          "name": "stdout",
          "output_type": "stream",
          "text": [
            "Cloning into 'WaveRNN'...\n",
            "remote: Enumerating objects: 932, done.\u001b[K\n",
            "remote: Total 932 (delta 0), reused 0 (delta 0), pack-reused 932\u001b[K\n",
            "Receiving objects: 100% (932/932), 242.13 MiB | 37.42 MiB/s, done.\n",
            "Resolving deltas: 100% (525/525), done.\n",
            "/content/WaveRNN\n"
          ]
        }
      ],
      "source": [
        "!git clone https://github.com/fatchord/WaveRNN.git\n",
        "%cd WaveRNN"
      ]
    },
    {
      "cell_type": "code",
      "execution_count": null,
      "metadata": {
        "colab": {
          "background_save": true
        },
        "id": "88kozuujMfU7"
      },
      "outputs": [],
      "source": [
        "!wget https://data.keithito.com/data/speech/LJSpeech-1.1.tar.bz2\n",
        "!tar -xvjf LJSpeech-1.1.tar.bz2"
      ]
    },
    {
      "cell_type": "code",
      "source": [
        "%pwd"
      ],
      "metadata": {
        "colab": {
          "base_uri": "https://localhost:8080/",
          "height": 35
        },
        "id": "XPYqk-3ZQsMk",
        "outputId": "1c5195c8-bee7-4091-827a-5bd1c5276393"
      },
      "execution_count": 19,
      "outputs": [
        {
          "output_type": "execute_result",
          "data": {
            "text/plain": [
              "'/content/WaveRNN'"
            ],
            "application/vnd.google.colaboratory.intrinsic+json": {
              "type": "string"
            }
          },
          "metadata": {},
          "execution_count": 19
        }
      ]
    }
  ],
  "metadata": {
    "colab": {
      "provenance": [],
      "authorship_tag": "ABX9TyMUTbakN+evVQGDvcplK3nJ",
      "include_colab_link": true
    },
    "kernelspec": {
      "display_name": "Python 3",
      "name": "python3"
    },
    "language_info": {
      "name": "python"
    }
  },
  "nbformat": 4,
  "nbformat_minor": 0
}